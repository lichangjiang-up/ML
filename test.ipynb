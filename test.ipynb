{
 "cells": [
  {
   "cell_type": "code",
   "execution_count": 6,
   "id": "48a52bab",
   "metadata": {},
   "outputs": [
    {
     "data": {
      "text/plain": [
       "array([[[1, 0, 0, 0, 0, 0, 0, 0, 0, 0],\n",
       "        [1, 1, 0, 0, 0, 0, 0, 0, 0, 0],\n",
       "        [1, 1, 1, 0, 0, 0, 0, 0, 0, 0],\n",
       "        [1, 1, 1, 1, 0, 0, 0, 0, 0, 0],\n",
       "        [1, 1, 1, 1, 1, 0, 0, 0, 0, 0],\n",
       "        [1, 1, 1, 1, 1, 1, 0, 0, 0, 0],\n",
       "        [1, 1, 1, 1, 1, 1, 1, 0, 0, 0],\n",
       "        [1, 1, 1, 1, 1, 1, 1, 1, 0, 0],\n",
       "        [1, 1, 1, 1, 1, 1, 1, 1, 1, 0],\n",
       "        [1, 1, 1, 1, 1, 1, 1, 1, 1, 1]]], dtype=uint8)"
      ]
     },
     "execution_count": 6,
     "metadata": {},
     "output_type": "execute_result"
    }
   ],
   "source": [
    "import numpy as np \n",
    "size = 10\n",
    "mask = np.triu(np.ones((1, size, size)), k=1).astype('uint8')\n",
    "\n",
    "np.tril(np.ones((1, size, size)), 0).astype('uint8')"
   ]
  },
  {
   "cell_type": "code",
   "execution_count": null,
   "id": "b91bb8fe",
   "metadata": {},
   "outputs": [],
   "source": [
    "from pypinyin import pinyin, Style\n",
    "\n",
    "# 获取笔画数\n",
    "def get_stroke_count(char):\n",
    "    stroke_info = pinyin(char, style=Style.STROKE)\n",
    "    # 笔画数为笔画字符串的长度（需手动解析）\n",
    "    return len(stroke_info[0][0].split('/'))\n",
    "\n",
    "# 获取笔画顺序\n",
    "def get_stroke_order(char):\n",
    "    stroke_info = pinyin(char, style=Style.STROKE)\n",
    "    return stroke_info[0][0].split('/')\n",
    "\n",
    "# 测试\n",
    "char = \"汉\"\n",
    "print(f\"汉字：{char}\")\n",
    "print(f\"笔画数：{get_stroke_count(char)}\")\n",
    "print(f\"笔画顺序：{' -> '.join(get_stroke_order(char))}\")"
   ]
  }
 ],
 "metadata": {
  "kernelspec": {
   "display_name": ".venv",
   "language": "python",
   "name": "python3"
  },
  "language_info": {
   "codemirror_mode": {
    "name": "ipython",
    "version": 3
   },
   "file_extension": ".py",
   "mimetype": "text/x-python",
   "name": "python",
   "nbconvert_exporter": "python",
   "pygments_lexer": "ipython3",
   "version": "3.13.5"
  }
 },
 "nbformat": 4,
 "nbformat_minor": 5
}
